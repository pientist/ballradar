{
 "cells": [
  {
   "cell_type": "code",
   "execution_count": null,
   "metadata": {},
   "outputs": [],
   "source": [
    "import torch\n",
    "import numpy as np\n",
    "from tqdm import tqdm\n",
    "from model import SetTransformer\n",
    "from input_pipeline import get_random_datasets\n",
    "from train import get_parameters, compute_groundtruth, LogLikelihood\n",
    "\n",
    "import matplotlib.pyplot as plt\n",
    "%matplotlib inline"
   ]
  },
  {
   "cell_type": "code",
   "execution_count": null,
   "metadata": {},
   "outputs": [],
   "source": [
    "DEVICE = torch.device('cuda:0')\n",
    "CHECKPOINT = 'models/run00_iteration_20000.pth'\n",
    "BATCH_SIZE = 1024\n",
    "NUM_BATCHES = 10000\n",
    "K = 4\n",
    "MIN_SIZE = 100\n",
    "MAX_SIZE = 500"
   ]
  },
  {
   "cell_type": "markdown",
   "metadata": {},
   "source": [
    "# Load the model"
   ]
  },
  {
   "cell_type": "code",
   "execution_count": null,
   "metadata": {},
   "outputs": [],
   "source": [
    "model = SetTransformer(in_dimension=2, out_dimension=5 * K)\n",
    "model = model.eval().to(DEVICE)\n",
    "model.load_state_dict(torch.load(CHECKPOINT, map_location=DEVICE))"
   ]
  },
  {
   "cell_type": "markdown",
   "metadata": {},
   "source": [
    "# Evaluate the model"
   ]
  },
  {
   "cell_type": "code",
   "execution_count": null,
   "metadata": {},
   "outputs": [],
   "source": [
    "criterion = LogLikelihood()\n",
    "\n",
    "loss = 0.0\n",
    "true_loss = 0.0\n",
    "\n",
    "for _ in tqdm(range(NUM_BATCHES)):\n",
    "\n",
    "    x, params = get_random_datasets(BATCH_SIZE, K, MIN_SIZE, MAX_SIZE)\n",
    "    x = x.to(DEVICE)\n",
    "\n",
    "    with torch.no_grad():\n",
    "\n",
    "        y = model(x)\n",
    "        means, variances, pis = get_parameters(y)\n",
    "        z = criterion(x, means, variances, pis)\n",
    "        loss += z.item()\n",
    "\n",
    "        z = compute_groundtruth(x, params, criterion)\n",
    "        true_loss += z.item()\n",
    "\n",
    "\n",
    "loss /= NUM_BATCHES\n",
    "true_loss /= NUM_BATCHES"
   ]
  },
  {
   "cell_type": "code",
   "execution_count": null,
   "metadata": {},
   "outputs": [],
   "source": [
    "print(f'{round(loss, 5)}, {round(true_loss, 5)}')\n",
    "# my output is 1.47324, 1.47486"
   ]
  },
  {
   "cell_type": "markdown",
   "metadata": {},
   "source": [
    "# Visualize predictions"
   ]
  },
  {
   "cell_type": "code",
   "execution_count": null,
   "metadata": {},
   "outputs": [],
   "source": [
    "data, params = get_random_datasets(1, K, MIN_SIZE, MAX_SIZE)\n",
    "params = {k: v[0].numpy() for k, v in params.items()}\n",
    "\n",
    "with torch.no_grad():\n",
    "    x = data.to(DEVICE)\n",
    "    y = model(x).cpu()\n",
    "    y = get_parameters(y)\n",
    "    y = [x[0].numpy() for x in y]\n",
    "    means, variances, pis = y\n",
    "    data = data[0].numpy()\n",
    "\n",
    "print('true probabilities of belonging to different clusters:')\n",
    "print(params['pis'], '\\n')\n",
    "\n",
    "print('predicted probabilities of belonging to different clusters:')\n",
    "print(pis, '\\n')\n",
    "\n",
    "print('true std of gaussians:')\n",
    "print(np.sqrt(params['variances']), '\\n')\n",
    "\n",
    "print('predicted std of gaussians:')\n",
    "print(np.sqrt(variances))\n",
    "\n",
    "x = data[:, 0]\n",
    "y = data[:, 1]\n",
    "plt.scatter(x, y, alpha=0.3)\n",
    "\n",
    "# true means\n",
    "x = params['means'][:, 0]\n",
    "y = params['means'][:, 1]\n",
    "plt.scatter(x, y, c='r');\n",
    "\n",
    "# predicted means\n",
    "x = means[:, 0]\n",
    "y = means[:, 1]\n",
    "plt.scatter(x, y, c='b');"
   ]
  }
 ],
 "metadata": {
  "kernelspec": {
   "display_name": "Python 3",
   "language": "python",
   "name": "python3"
  },
  "language_info": {
   "codemirror_mode": {
    "name": "ipython",
    "version": 3
   },
   "file_extension": ".py",
   "mimetype": "text/x-python",
   "name": "python",
   "nbconvert_exporter": "python",
   "pygments_lexer": "ipython3",
   "version": "3.7.3"
  }
 },
 "nbformat": 4,
 "nbformat_minor": 2
}
